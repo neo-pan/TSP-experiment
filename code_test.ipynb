{
 "cells": [
  {
   "cell_type": "markdown",
   "metadata": {},
   "source": [
    "## Test AttentionDecoder"
   ]
  },
  {
   "cell_type": "code",
   "execution_count": 1,
   "metadata": {},
   "outputs": [],
   "source": [
    "from importlib import reload\n",
    "\n",
    "import numpy as np\n",
    "import torch\n",
    "import torch.nn.functional as F\n",
    "from datasets.tsp import gen_fully_connected_graph\n",
    "from models.decoder import AttentionDecoder\n",
    "from torch_geometric.data import Batch, Data\n",
    "from torch_geometric.nn import global_max_pool\n",
    "from torch_geometric.utils import to_dense_batch"
   ]
  },
  {
   "cell_type": "code",
   "execution_count": 2,
   "metadata": {},
   "outputs": [
    {
     "data": {
      "text/plain": [
       "AttentionDecoder(\n",
       "  (query_proj): Linear(in_features=4, out_features=4, bias=True)\n",
       "  (key_proj): Linear(in_features=4, out_features=4, bias=True)\n",
       ")"
      ]
     },
     "execution_count": 2,
     "metadata": {},
     "output_type": "execute_result"
    }
   ],
   "source": [
    "embed_dim = 4\n",
    "num_heads = 2\n",
    "attn = AttentionDecoder(query_dim=embed_dim, embed_dim=embed_dim, num_heads=num_heads)\n",
    "attn"
   ]
  },
  {
   "cell_type": "code",
   "execution_count": 3,
   "metadata": {},
   "outputs": [],
   "source": [
    "g1 = gen_fully_connected_graph(5)\n",
    "g2 = gen_fully_connected_graph(10)\n",
    "g1.mask = torch.ones((51), dtype=torch.bool)\n",
    "g2.mask = torch.ones((101), dtype=torch.bool)\n",
    "g1.mask[0:4] = False\n",
    "g2.mask[0:4] = False\n",
    "data_list = [g1 if (i % 2) == 0 else g2 for i in range(64)]"
   ]
  },
  {
   "cell_type": "code",
   "execution_count": null,
   "metadata": {},
   "outputs": [],
   "source": [
    "batch = Batch.from_data_list(data_list)\n",
    "batch"
   ]
  },
  {
   "cell_type": "code",
   "execution_count": 5,
   "metadata": {},
   "outputs": [],
   "source": [
    "dense_batch = to_dense_batch(batch.x, batch.batch)[0]\n",
    "dense_mask = to_dense_batch(batch.mask, batch.batch)[0]"
   ]
  },
  {
   "cell_type": "code",
   "execution_count": 6,
   "metadata": {},
   "outputs": [
    {
     "data": {
      "text/plain": [
       "torch.Size([10, 64, 4])"
      ]
     },
     "execution_count": 6,
     "metadata": {},
     "output_type": "execute_result"
    }
   ],
   "source": [
    "key = dense_batch.permute(102)\n",
    "key.shape"
   ]
  },
  {
   "cell_type": "code",
   "execution_count": 7,
   "metadata": {},
   "outputs": [
    {
     "data": {
      "text/plain": [
       "torch.Size([64, 1, 10])"
      ]
     },
     "execution_count": 7,
     "metadata": {},
     "output_type": "execute_result"
    }
   ],
   "source": [
    "mask = dense_mask.permute(021)\n",
    "mask.shape"
   ]
  },
  {
   "cell_type": "code",
   "execution_count": 8,
   "metadata": {},
   "outputs": [
    {
     "data": {
      "text/plain": [
       "torch.Size([1, 64, 4])"
      ]
     },
     "execution_count": 8,
     "metadata": {},
     "output_type": "execute_result"
    }
   ],
   "source": [
    "query = global_max_pool(batch.x, batch.batch)\n",
    "query = query[None, :, :]\n",
    "query.shape"
   ]
  },
  {
   "cell_type": "code",
   "execution_count": 9,
   "metadata": {},
   "outputs": [],
   "source": [
    "attn_weight = attn(query, key, ~mask)"
   ]
  },
  {
   "cell_type": "code",
   "execution_count": 10,
   "metadata": {},
   "outputs": [
    {
     "data": {
      "text/plain": [
       "tensor([[[False, False, False, False,  True, False, False, False, False, False]],\n",
       "\n",
       "        [[False, False, False, False,  True,  True,  True,  True,  True,  True]]])"
      ]
     },
     "execution_count": 10,
     "metadata": {},
     "output_type": "execute_result"
    }
   ],
   "source": [
    "mask[0:2]"
   ]
  },
  {
   "cell_type": "code",
   "execution_count": 11,
   "metadata": {},
   "outputs": [
    {
     "data": {
      "text/plain": [
       "tensor([[[0.0000, 0.0000, 0.0000, 0.0000, 1.0000, 0.0000, 0.0000, 0.0000,\n",
       "          0.0000, 0.0000]],\n",
       "\n",
       "        [[0.0000, 0.0000, 0.0000, 0.0000, 0.1521, 0.1673, 0.1746, 0.1700,\n",
       "          0.1728, 0.1631]]], grad_fn=<SliceBackward>)"
      ]
     },
     "execution_count": 11,
     "metadata": {},
     "output_type": "execute_result"
    }
   ],
   "source": [
    "attn_weight.exp()[0:2]"
   ]
  },
  {
   "cell_type": "code",
   "execution_count": 15,
   "metadata": {},
   "outputs": [
    {
     "data": {
      "text/plain": [
       "tensor([[4],\n",
       "        [7]])"
      ]
     },
     "execution_count": 15,
     "metadata": {},
     "output_type": "execute_result"
    }
   ],
   "source": [
    "attn_weight.exp().squeeze().multinomial(1)[0:2]"
   ]
  },
  {
   "cell_type": "markdown",
   "metadata": {},
   "source": [
    "## Test TSP Environment"
   ]
  },
  {
   "cell_type": "code",
   "execution_count": 1,
   "metadata": {},
   "outputs": [],
   "source": [
    "import torch\n",
    "from datasets.tsp import gen_fully_connected_graph\n",
    "from environments.tsp import TSPEnv\n",
    "from torch_geometric.data import Batch\n",
    "from torch_geometric.utils import to_dense_batch"
   ]
  },
  {
   "cell_type": "code",
   "execution_count": 2,
   "metadata": {},
   "outputs": [],
   "source": [
    "num_nodes = 10\n",
    "batch_size = 5"
   ]
  },
  {
   "cell_type": "code",
   "execution_count": 3,
   "metadata": {},
   "outputs": [
    {
     "data": {
      "text/plain": [
       "Batch(batch=[50], edge_index=[2, 500], pos=[50, 2], x=[50, 4])"
      ]
     },
     "execution_count": 3,
     "metadata": {},
     "output_type": "execute_result"
    }
   ],
   "source": [
    "g = gen_fully_connected_graph(num_nodes)\n",
    "g_list = [g for _ in range(batch_size)]\n",
    "batch = Batch.from_data_list(g_list)\n",
    "batch"
   ]
  },
  {
   "cell_type": "code",
   "execution_count": 4,
   "metadata": {},
   "outputs": [
    {
     "data": {
      "text/plain": [
       "torch.Size([5, 10, 2])"
      ]
     },
     "execution_count": 4,
     "metadata": {},
     "output_type": "execute_result"
    }
   ],
   "source": [
    "node_pos, dense_mask = to_dense_batch(batch.pos, batch.batch)\n",
    "assert dense_mask.all()\n",
    "node_pos.shape"
   ]
  },
  {
   "cell_type": "code",
   "execution_count": 5,
   "metadata": {},
   "outputs": [
    {
     "name": "stdout",
     "output_type": "stream",
     "text": [
      "tensor([[False,  True,  True,  True,  True,  True,  True,  True,  True,  True],\n",
      "        [False,  True,  True,  True,  True,  True,  True,  True,  True,  True],\n",
      "        [False,  True,  True,  True,  True,  True,  True,  True,  True,  True],\n",
      "        [False,  True,  True,  True,  True,  True,  True,  True,  True,  True],\n",
      "        [False,  True,  True,  True,  True,  True,  True,  True,  True,  True]])\n"
     ]
    }
   ],
   "source": [
    "env = TSPEnv(node_pos)\n",
    "assert env.num_nodes == num_nodes\n",
    "assert env.batch_size == batch_size\n",
    "print(env._avail_mask)"
   ]
  },
  {
   "cell_type": "code",
   "execution_count": 6,
   "metadata": {},
   "outputs": [
    {
     "data": {
      "text/plain": [
       "(TSPState(first_node=tensor([[0],\n",
       "         [0],\n",
       "         [0],\n",
       "         [0],\n",
       "         [0]]), pre_node=tensor([[9],\n",
       "         [4],\n",
       "         [2],\n",
       "         [1],\n",
       "         [8]]), avail_mask=tensor([[False,  True,  True,  True,  True,  True,  True,  True,  True, False],\n",
       "         [False,  True,  True,  True, False,  True,  True,  True,  True,  True],\n",
       "         [False,  True, False,  True,  True,  True,  True,  True,  True,  True],\n",
       "         [False, False,  True,  True,  True,  True,  True,  True,  True,  True],\n",
       "         [False,  True,  True,  True,  True,  True,  True,  True, False,  True]])),\n",
       " tensor([0., 0., 0., 0., 0.]),\n",
       " False,\n",
       " {})"
      ]
     },
     "execution_count": 6,
     "metadata": {},
     "output_type": "execute_result"
    }
   ],
   "source": [
    "a = env.random_action()\n",
    "env.step(a)"
   ]
  },
  {
   "cell_type": "code",
   "execution_count": 7,
   "metadata": {},
   "outputs": [
    {
     "data": {
      "text/plain": [
       "(TSPState(first_node=tensor([[0],\n",
       "         [0],\n",
       "         [0],\n",
       "         [0],\n",
       "         [0]]), pre_node=tensor([[1],\n",
       "         [5],\n",
       "         [5],\n",
       "         [2],\n",
       "         [6]]), avail_mask=tensor([[False, False, False, False, False, False, False, False, False, False],\n",
       "         [False, False, False, False, False, False, False, False, False, False],\n",
       "         [False, False, False, False, False, False, False, False, False, False],\n",
       "         [False, False, False, False, False, False, False, False, False, False],\n",
       "         [False, False, False, False, False, False, False, False, False, False]])),\n",
       " tensor([-6.7641, -6.1001, -7.0537, -6.4557, -7.4225]))"
      ]
     },
     "execution_count": 7,
     "metadata": {},
     "output_type": "execute_result"
    }
   ],
   "source": [
    "done = False\n",
    "while not done:\n",
    "    state, reward, done, _ = env.step(env.random_action())\n",
    "state, reward"
   ]
  },
  {
   "cell_type": "markdown",
   "metadata": {},
   "source": [
    "## Test TSPAgent, TSPCritic"
   ]
  },
  {
   "cell_type": "code",
   "execution_count": 1,
   "metadata": {},
   "outputs": [],
   "source": [
    "from collections import namedtuple\n",
    "\n",
    "import torch\n",
    "from datasets.tsp import gen_fully_connected_graph\n",
    "from environments.tsp import TSPEnv\n",
    "from models.tsp_agent import TSPAgent\n",
    "from models.tsp_baseline import CriticBaseline\n",
    "from torch_geometric.data import Batch\n",
    "from torch_geometric.utils import to_dense_batch"
   ]
  },
  {
   "cell_type": "code",
   "execution_count": 2,
   "metadata": {},
   "outputs": [],
   "source": [
    "num_nodes = 10\n",
    "batch_size = 64\n",
    "\n",
    "class args:\n",
    "    input_dim = 4\n",
    "    embed_dim = 64\n",
    "    num_embed_layers = 2\n",
    "    num_gnn_layers = 2\n",
    "    encoder_num_heads = 1\n",
    "    decoder_num_heads = 1\n",
    "    bias = True\n",
    "    pooling_method = \"add\"\n",
    "    decode_type = \"sampling\"\n",
    "    eval_batch_size = 64\n",
    "    warmup_batch_size = 256\n",
    "    device = torch.device(\"cuda:0\")\n",
    "    max_grad_norm = 1.0\n",
    "    tanh_clipping = 0\n",
    "    normalization = \"batch\""
   ]
  },
  {
   "cell_type": "code",
   "execution_count": 3,
   "metadata": {},
   "outputs": [],
   "source": [
    "model = TSPAgent(args).to(args.device)"
   ]
  },
  {
   "cell_type": "code",
   "execution_count": 4,
   "metadata": {},
   "outputs": [],
   "source": [
    "critic = CriticBaseline(args).to(args.device)"
   ]
  },
  {
   "cell_type": "code",
   "execution_count": 6,
   "metadata": {},
   "outputs": [
    {
     "data": {
      "text/plain": [
       "36015"
      ]
     },
     "execution_count": 6,
     "metadata": {},
     "output_type": "execute_result"
    }
   ],
   "source": [
    "sum(param.numel() for param in critic.parameters())"
   ]
  },
  {
   "cell_type": "code",
   "execution_count": 5,
   "metadata": {},
   "outputs": [],
   "source": [
    "batch = Batch.from_data_list([gen_fully_connected_graph(num_nodes) for _ in range(batch_size)])\n",
    "batch = batch.to(args.device)"
   ]
  },
  {
   "cell_type": "code",
   "execution_count": 6,
   "metadata": {},
   "outputs": [
    {
     "data": {
      "text/plain": [
       "TSP Environment, with 64 graphs of size 10"
      ]
     },
     "execution_count": 6,
     "metadata": {},
     "output_type": "execute_result"
    }
   ],
   "source": [
    "node_pos = to_dense_batch(batch.pos, batch.batch)[0]\n",
    "env = TSPEnv(node_pos)\n",
    "env"
   ]
  },
  {
   "cell_type": "code",
   "execution_count": 7,
   "metadata": {},
   "outputs": [
    {
     "data": {
      "text/plain": [
       "Batch(batch=[640], edge_index=[2, 6400], pos=[640, 2], x=[640, 64])"
      ]
     },
     "execution_count": 7,
     "metadata": {},
     "output_type": "execute_result"
    }
   ],
   "source": [
    "model.encode(batch)"
   ]
  },
  {
   "cell_type": "code",
   "execution_count": null,
   "metadata": {},
   "outputs": [],
   "source": [
    "critic(batch)"
   ]
  },
  {
   "cell_type": "code",
   "execution_count": 8,
   "metadata": {},
   "outputs": [],
   "source": [
    "log_p_s = []\n",
    "selected_s = []\n",
    "reward_s = []\n",
    "done = False\n",
    "state = env.reset(node_pos)\n",
    "step = 0\n",
    "while (not done) and (step < 999):\n",
    "    selected, log_p = model(state)\n",
    "    state, reward, done, _ = env.step(selected)\n",
    "    log_p_s.append(log_p)\n",
    "    selected_s.append(selected)\n",
    "    reward_s.append(reward)\n",
    "    step += 1"
   ]
  },
  {
   "cell_type": "code",
   "execution_count": 9,
   "metadata": {},
   "outputs": [],
   "source": [
    "seqs = torch.stack(selected_s, 1)"
   ]
  },
  {
   "cell_type": "code",
   "execution_count": 10,
   "metadata": {},
   "outputs": [],
   "source": [
    "logps = torch.stack(log_p_s, 1)"
   ]
  },
  {
   "cell_type": "code",
   "execution_count": 11,
   "metadata": {},
   "outputs": [
    {
     "data": {
      "text/plain": [
       "tensor([-11.0905, -12.7257, -12.6950, -12.8495, -12.5384, -11.6274, -13.0203,\n",
       "        -11.7958, -13.0039, -10.9187, -13.6919, -11.9089, -12.3686, -11.6596,\n",
       "        -11.7577, -11.5274, -12.9912, -13.3216, -12.8993, -13.0036, -13.6767,\n",
       "        -12.8429, -11.9340, -10.1329, -12.5332, -12.5057, -12.6261, -13.2948,\n",
       "        -12.7493, -10.5740, -12.8161, -12.5921, -11.6374, -12.9641, -12.5172,\n",
       "        -11.9017, -11.0072, -14.9162, -12.3361, -11.2605, -12.0295, -12.7444,\n",
       "        -11.1414, -12.2185, -11.8231, -13.4235, -12.5957, -12.0204, -13.2476,\n",
       "        -13.3567, -13.5189, -12.5651, -13.1168, -11.5777, -11.9570, -12.4096,\n",
       "        -12.4296, -12.0215, -12.4874, -13.1155, -12.5791, -12.2565, -13.1935,\n",
       "        -12.5383], device='cuda:0', grad_fn=<SumBackward1>)"
      ]
     },
     "execution_count": 11,
     "metadata": {},
     "output_type": "execute_result"
    }
   ],
   "source": [
    "log_likelihood = logps.gather(2, seqs).squeeze().sum(1)\n",
    "log_likelihood"
   ]
  },
  {
   "cell_type": "code",
   "execution_count": 12,
   "metadata": {},
   "outputs": [],
   "source": [
    "b = model.encode(batch)"
   ]
  },
  {
   "cell_type": "code",
   "execution_count": 13,
   "metadata": {},
   "outputs": [
    {
     "data": {
      "text/plain": [
       "tensor([[[-2.4961e+00, -2.5995e+00, -2.1859e+00,  ..., -2.6890e+00,\n",
       "          -2.5081e+00, -2.2818e+00],\n",
       "         [-2.1581e+00, -2.2588e+00, -1.8678e+00,  ..., -2.3331e+00,\n",
       "          -2.1649e+00, -1.9922e+00],\n",
       "         [-2.0446e+00, -2.1648e+00, -1.6999e+00,  ..., -2.2424e+00,\n",
       "          -2.0653e+00, -1.8096e+00],\n",
       "         ...,\n",
       "         [-9.0324e-01, -1.1854e+00,        -inf,  ..., -1.2375e+00,\n",
       "                 -inf,        -inf],\n",
       "         [       -inf, -6.5951e-01,        -inf,  ..., -7.2588e-01,\n",
       "                 -inf,        -inf],\n",
       "         [       -inf,        -inf,        -inf,  ...,  1.0000e-03,\n",
       "                 -inf,        -inf]],\n",
       "\n",
       "        [[-2.1765e+00, -2.0970e+00, -2.3754e+00,  ..., -2.5158e+00,\n",
       "          -2.2759e+00, -2.1702e+00],\n",
       "         [-2.0854e+00, -1.8737e+00, -2.1889e+00,  ...,        -inf,\n",
       "          -2.3247e+00, -1.9573e+00],\n",
       "         [-1.8176e+00, -1.5905e+00, -2.0580e+00,  ...,        -inf,\n",
       "          -2.2896e+00, -1.7264e+00],\n",
       "         ...,\n",
       "         [-1.0814e+00, -8.7454e-01,        -inf,  ...,        -inf,\n",
       "                 -inf,        -inf],\n",
       "         [       -inf, -4.3127e-01,        -inf,  ...,        -inf,\n",
       "                 -inf,        -inf],\n",
       "         [       -inf,        -inf,        -inf,  ...,        -inf,\n",
       "                 -inf,        -inf]],\n",
       "\n",
       "        [[-2.3981e+00, -2.1566e+00, -1.9799e+00,  ..., -2.2623e+00,\n",
       "          -2.0943e+00, -2.4907e+00],\n",
       "         [-2.0952e+00, -2.1789e+00, -1.8904e+00,  ..., -2.1510e+00,\n",
       "                 -inf, -2.3852e+00],\n",
       "         [-2.0850e+00,        -inf, -1.7665e+00,  ..., -1.9312e+00,\n",
       "                 -inf, -2.1906e+00],\n",
       "         ...,\n",
       "         [-1.1241e+00,        -inf,        -inf,  ...,        -inf,\n",
       "                 -inf,        -inf],\n",
       "         [       -inf,        -inf,        -inf,  ...,        -inf,\n",
       "                 -inf,        -inf],\n",
       "         [       -inf,        -inf,        -inf,  ...,        -inf,\n",
       "                 -inf,        -inf]],\n",
       "\n",
       "        ...,\n",
       "\n",
       "        [[-2.1042e+00, -2.1106e+00, -2.6235e+00,  ..., -1.9776e+00,\n",
       "          -1.8537e+00, -1.8381e+00],\n",
       "         [-2.0616e+00, -1.9099e+00, -2.2436e+00,  ..., -1.9302e+00,\n",
       "          -2.0474e+00, -2.0437e+00],\n",
       "         [       -inf, -1.8178e+00, -2.2084e+00,  ..., -1.8000e+00,\n",
       "          -1.7830e+00, -1.7703e+00],\n",
       "         ...,\n",
       "         [       -inf,        -inf, -1.1360e+00,  ...,        -inf,\n",
       "                 -inf, -8.3566e-01],\n",
       "         [       -inf,        -inf, -5.5304e-01,  ...,        -inf,\n",
       "                 -inf,        -inf],\n",
       "         [       -inf,        -inf,        -inf,  ...,        -inf,\n",
       "                 -inf,        -inf]],\n",
       "\n",
       "        [[-2.6358e+00, -2.8237e+00, -2.4114e+00,  ..., -1.6311e+00,\n",
       "          -2.0775e+00, -1.5111e+00],\n",
       "         [-2.3671e+00, -2.3127e+00, -2.1604e+00,  ..., -1.7400e+00,\n",
       "          -2.0368e+00, -1.6877e+00],\n",
       "         [-2.1362e+00, -2.3893e+00, -2.0929e+00,  ..., -1.4078e+00,\n",
       "          -1.8057e+00,        -inf],\n",
       "         ...,\n",
       "         [-1.2831e+00,        -inf,        -inf,  ..., -8.3440e-01,\n",
       "                 -inf,        -inf],\n",
       "         [       -inf,        -inf,        -inf,  ..., -5.8950e-01,\n",
       "                 -inf,        -inf],\n",
       "         [       -inf,        -inf,        -inf,  ...,        -inf,\n",
       "                 -inf,        -inf]],\n",
       "\n",
       "        [[-2.6016e+00, -2.5300e+00, -2.4928e+00,  ..., -2.1840e+00,\n",
       "          -2.2062e+00, -1.6779e+00],\n",
       "         [-2.3633e+00, -2.2292e+00, -2.1545e+00,  ...,        -inf,\n",
       "          -2.0534e+00, -1.7982e+00],\n",
       "         [-2.1088e+00, -2.0186e+00, -2.0903e+00,  ...,        -inf,\n",
       "          -1.9068e+00,        -inf],\n",
       "         ...,\n",
       "         [       -inf, -1.2133e+00, -1.1331e+00,  ...,        -inf,\n",
       "                 -inf,        -inf],\n",
       "         [       -inf, -8.6932e-01,        -inf,  ...,        -inf,\n",
       "                 -inf,        -inf],\n",
       "         [       -inf,  1.0000e-03,        -inf,  ...,        -inf,\n",
       "                 -inf,        -inf]]], device='cuda:0', grad_fn=<AddBackward0>)"
      ]
     },
     "execution_count": 13,
     "metadata": {},
     "output_type": "execute_result"
    }
   ],
   "source": [
    "import torch.nn as nn\n",
    "ll = logps[:, :, 1:]+0.001\n",
    "ll\n",
    "# loss = nn.NLLLoss()(, seqs.squeeze(-1))"
   ]
  },
  {
   "cell_type": "code",
   "execution_count": 17,
   "metadata": {},
   "outputs": [
    {
     "data": {
      "text/plain": [
       "tensor([[ 0.8851,  0.1003,  0.9201,  ..., -0.4026, -0.2942, -2.6055],\n",
       "        [-0.1820,  0.4364, -0.9562,  ..., -0.6886, -0.9954,  0.0208],\n",
       "        [ 1.4790, -0.0079,  0.4439,  ..., -1.5283, -0.6712,  1.0707],\n",
       "        ...,\n",
       "        [-0.8313,  1.4927,  0.0510,  ...,  0.4645, -0.9747,  0.0529],\n",
       "        [-1.1597,  0.0481, -0.6940,  ...,  1.3996, -0.4882, -1.1367],\n",
       "        [ 1.2771,  0.1759,  0.6788,  ..., -0.3832, -0.2091,  0.9990]],\n",
       "       device='cuda:0', grad_fn=<CudnnBatchNormBackward>)"
      ]
     },
     "execution_count": 17,
     "metadata": {},
     "output_type": "execute_result"
    }
   ],
   "source": [
    "from torch_geometric.nn import BatchNorm\n",
    "norm = BatchNorm(args.embed_dim).to(args.device)\n",
    "norm(b.x.to(args.device))"
   ]
  },
  {
   "cell_type": "markdown",
   "metadata": {},
   "source": [
    "## Test Train"
   ]
  },
  {
   "cell_type": "code",
   "execution_count": 7,
   "metadata": {},
   "outputs": [],
   "source": [
    "from args import get_args\n",
    "from datasets.tsp import TSPDataset\n",
    "from train import rollout, validate\n",
    "from rl_algorithms.reinforce import _calc_log_likelihood, clip_grad_norms\n",
    "from train import warmup_baseline\n",
    "from tqdm import tqdm"
   ]
  },
  {
   "cell_type": "code",
   "execution_count": 8,
   "metadata": {},
   "outputs": [],
   "source": []
  },
  {
   "cell_type": "code",
   "execution_count": 9,
   "metadata": {},
   "outputs": [
    {
     "name": "stdout",
     "output_type": "stream",
     "text": [
      "Processing...\n",
      "Done!\n"
     ]
    }
   ],
   "source": [
    "dataset = TSPDataset(1000, min_num_node=num_nodes, max_num_node=num_nodes)\n"
   ]
  },
  {
   "cell_type": "code",
   "execution_count": null,
   "metadata": {},
   "outputs": [],
   "source": [
    "rollout(model, dataset, env, args)"
   ]
  },
  {
   "cell_type": "code",
   "execution_count": 46,
   "metadata": {},
   "outputs": [
    {
     "name": "stdout",
     "output_type": "stream",
     "text": [
      "Validating...\n",
      "Validation overall avg_cost: 4.079802513122559 +- 0.02389952540397644\n"
     ]
    },
    {
     "data": {
      "text/plain": [
       "tensor(4.0798)"
      ]
     },
     "execution_count": 46,
     "metadata": {},
     "output_type": "execute_result"
    }
   ],
   "source": [
    "validate(model, dataset, env, args)"
   ]
  },
  {
   "cell_type": "code",
   "execution_count": 11,
   "metadata": {},
   "outputs": [
    {
     "name": "stderr",
     "output_type": "stream",
     "text": [
      "  0%|          | 0/4 [00:00<?, ?it/s]"
     ]
    },
    {
     "name": "stdout",
     "output_type": "stream",
     "text": [
      "Warmup Critic Baseline with training dataset\n"
     ]
    },
    {
     "name": "stderr",
     "output_type": "stream",
     "text": [
      "100%|██████████| 4/4 [00:00<00:00, 10.06it/s]\n"
     ]
    }
   ],
   "source": [
    "import torch.optim as optim\n",
    "optimizer = optim.Adam(\n",
    "    [{\"params\": model.parameters(), \"lr\": 0.001}] + \n",
    "    [{\"params\": critic.parameters(), \"lr\": 0.001}]\n",
    ")\n",
    "warmup_baseline(critic, dataset, env, optimizer, args)"
   ]
  },
  {
   "cell_type": "code",
   "execution_count": 28,
   "metadata": {},
   "outputs": [
    {
     "name": "stderr",
     "output_type": "stream",
     "text": [
      "100%|██████████| 10/10 [00:00<00:00, 19.73it/s]\n"
     ]
    }
   ],
   "source": [
    "for i in tqdm(range(10)):\n",
    "    batch = batch.to(args.device)\n",
    "    model.train()\n",
    "    model.encode(batch)\n",
    "    model.set_decode_type(\"sampling\")\n",
    "    log_p_s = []\n",
    "    selected_s = []\n",
    "    reward_s = []\n",
    "    done = False\n",
    "    state = env.reset(to_dense_batch(batch.pos, batch.batch)[0])\n",
    "    step = 0\n",
    "    while (not done) and (step < 999):\n",
    "        selected, log_p = model(state)\n",
    "#         selected = torch.tensor([[step+1]], dtype=torch.long, device=args.device)\n",
    "        state, reward, done, _ = env.step(selected)\n",
    "        log_p_s.append(log_p)\n",
    "        selected_s.append(selected)\n",
    "        reward_s.append(reward)\n",
    "        step += 1\n",
    "\n",
    "    _log_p = torch.stack(log_p_s, 1)\n",
    "    actions = torch.stack(selected_s, 1)\n",
    "    log_likelihood = _calc_log_likelihood(_log_p, actions)\n",
    "    reward = -reward.unsqueeze(-1)\n",
    "    bl_val, bl_loss = critic.eval(batch, reward)\n",
    "    rl_loss = ((reward-bl_val)*log_likelihood).mean()\n",
    "    loss = rl_loss + bl_loss\n",
    "\n",
    "    optimizer.zero_grad()\n",
    "    loss.backward()\n",
    "    grad_norms = clip_grad_norms(optimizer.param_groups, args.max_grad_norm)\n",
    "    optimizer.step()\n",
    "    "
   ]
  },
  {
   "cell_type": "code",
   "execution_count": 31,
   "metadata": {},
   "outputs": [
    {
     "name": "stdout",
     "output_type": "stream",
     "text": [
      "2\n"
     ]
    }
   ],
   "source": [
    "print(len(optimizer.param_groups))"
   ]
  },
  {
   "cell_type": "code",
   "execution_count": 44,
   "metadata": {},
   "outputs": [
    {
     "data": {
      "text/plain": [
       "tensor([[0.1451, 0.1215, 0.1905, 0.1667, 0.1898, 0.2674, 0.3751, 0.5984, 1.0000],\n",
       "        [0.1396, 0.1160, 0.0994, 0.1837, 0.2139, 0.2614, 0.3131, 0.5169, 1.0000],\n",
       "        [0.1140, 0.1405, 0.1660, 0.1308, 0.2130, 0.3266, 0.3131, 0.5600, 1.0000],\n",
       "        [0.1459, 0.0923, 0.1592, 0.2028, 0.2299, 0.3024, 0.3132, 0.5790, 1.0000]],\n",
       "       device='cuda:0', grad_fn=<SliceBackward>)"
      ]
     },
     "execution_count": 44,
     "metadata": {},
     "output_type": "execute_result"
    }
   ],
   "source": [
    "_log_p.exp().gather(2, actions).squeeze(-1)[0:8:2]"
   ]
  },
  {
   "cell_type": "code",
   "execution_count": 45,
   "metadata": {},
   "outputs": [
    {
     "name": "stdout",
     "output_type": "stream",
     "text": [
      "tensor([[0.0000, 0.1039, 0.1433, 0.0961, 0.1013, 0.1098, 0.1128, 0.1124, 0.1451,\n",
      "         0.0753],\n",
      "        [0.0000, 0.1215, 0.1675, 0.1124, 0.1185, 0.1284, 0.1320, 0.1315, 0.0000,\n",
      "         0.0881],\n",
      "        [0.0000, 0.0000, 0.1905, 0.1280, 0.1349, 0.1462, 0.1502, 0.1497, 0.0000,\n",
      "         0.1005],\n",
      "        [0.0000, 0.0000, 0.0000, 0.1581, 0.1667, 0.1806, 0.1856, 0.1850, 0.0000,\n",
      "         0.1240],\n",
      "        [0.0000, 0.0000, 0.0000, 0.1898, 0.0000, 0.2167, 0.2226, 0.2219, 0.0000,\n",
      "         0.1490],\n",
      "        [0.0000, 0.0000, 0.0000, 0.0000, 0.0000, 0.2674, 0.2748, 0.2738, 0.0000,\n",
      "         0.1839],\n",
      "        [0.0000, 0.0000, 0.0000, 0.0000, 0.0000, 0.0000, 0.3751, 0.3739, 0.0000,\n",
      "         0.2509],\n",
      "        [0.0000, 0.0000, 0.0000, 0.0000, 0.0000, 0.0000, 0.0000, 0.5984, 0.0000,\n",
      "         0.4016],\n",
      "        [0.0000, 0.0000, 0.0000, 0.0000, 0.0000, 0.0000, 0.0000, 0.0000, 0.0000,\n",
      "         1.0000]], device='cuda:0', grad_fn=<ExpBackward>)\n"
     ]
    }
   ],
   "source": [
    "print(_log_p[0].exp())"
   ]
  },
  {
   "cell_type": "code",
   "execution_count": 25,
   "metadata": {},
   "outputs": [],
   "source": [
    "# print(reward)\n",
    "# print(bl_val)\n"
   ]
  },
  {
   "cell_type": "code",
   "execution_count": null,
   "metadata": {},
   "outputs": [],
   "source": []
  },
  {
   "cell_type": "markdown",
   "metadata": {},
   "source": [
    "## Test MST"
   ]
  },
  {
   "cell_type": "code",
   "execution_count": 43,
   "metadata": {},
   "outputs": [],
   "source": [
    "import networkx.algorithms.tree.mst as mst\n",
    "from datasets.tsp import gen_fully_connected_graph\n",
    "from torch_geometric.transforms import distance\n",
    "from torch_geometric.utils import to_networkx, from_networkx, to_dense_batch\n",
    "from torch_geometric.data import Batch"
   ]
  },
  {
   "cell_type": "code",
   "execution_count": 4,
   "metadata": {},
   "outputs": [
    {
     "data": {
      "text/plain": [
       "Batch(batch=[250], edge_index=[2, 12500], pos=[250, 2], x=[250, 4])"
      ]
     },
     "execution_count": 4,
     "metadata": {},
     "output_type": "execute_result"
    }
   ],
   "source": [
    "graph = gen_fully_connected_graph(50)\n",
    "graph = Batch.from_data_list([graph] * 5)\n",
    "graph"
   ]
  },
  {
   "cell_type": "code",
   "execution_count": 5,
   "metadata": {},
   "outputs": [
    {
     "data": {
      "text/plain": [
       "Batch(batch=[250], edge_attr=[12500, 1], edge_index=[2, 12500], pos=[250, 2], x=[250, 4])"
      ]
     },
     "execution_count": 5,
     "metadata": {},
     "output_type": "execute_result"
    }
   ],
   "source": [
    "graph = distance.Distance(cat=False)(graph)\n",
    "graph"
   ]
  },
  {
   "cell_type": "code",
   "execution_count": 6,
   "metadata": {},
   "outputs": [],
   "source": [
    "ng = to_networkx(graph, edge_attrs=[\"edge_attr\"], to_undirected=True)"
   ]
  },
  {
   "cell_type": "code",
   "execution_count": 7,
   "metadata": {},
   "outputs": [],
   "source": [
    "ng_mst = mst.minimum_spanning_tree(ng, \"edge_attr\")"
   ]
  },
  {
   "cell_type": "code",
   "execution_count": 8,
   "metadata": {},
   "outputs": [],
   "source": [
    "mst_len = []\n",
    "for e in ng_mst.edges:\n",
    "    mst_len.append(ng_mst.edges[e][\"edge_attr\"])"
   ]
  },
  {
   "cell_type": "code",
   "execution_count": 9,
   "metadata": {},
   "outputs": [
    {
     "data": {
      "text/plain": [
       "20.18728230614215"
      ]
     },
     "execution_count": 9,
     "metadata": {},
     "output_type": "execute_result"
    }
   ],
   "source": [
    "sum(mst_len)"
   ]
  },
  {
   "cell_type": "code",
   "execution_count": 36,
   "metadata": {},
   "outputs": [
    {
     "data": {
      "text/plain": [
       "<networkx.classes.graph.Graph at 0x7f981b6286a0>"
      ]
     },
     "execution_count": 36,
     "metadata": {},
     "output_type": "execute_result"
    },
    {
     "data": {
      "image/png": "[encoded data removed]",
      "text/plain": [
       "<Figure size 432x288 with 1 Axes>"
      ]
     },
     "metadata": {},
     "output_type": "display_data"
    }
   ],
   "source": [
    "import networkx as nx\n",
    "nx.draw(ng_mst, pos=graph.pos.numpy())\n",
    "ng_mst"
   ]
  },
  {
   "cell_type": "code",
   "execution_count": 44,
   "metadata": {},
   "outputs": [
    {
     "data": {
      "text/plain": [
       "(tensor([[[0.0000, 1.0000, 0.9913, 0.1074],\n",
       "          [1.0000, 0.0000, 0.1944, 0.3567],\n",
       "          [1.0000, 0.0000, 0.6306, 0.5838],\n",
       "          [1.0000, 0.0000, 0.8117, 0.5159],\n",
       "          [1.0000, 0.0000, 0.4728, 0.8074],\n",
       "          [1.0000, 0.0000, 0.9178, 0.7037],\n",
       "          [1.0000, 0.0000, 0.7140, 0.5550],\n",
       "          [1.0000, 0.0000, 0.9494, 0.8128],\n",
       "          [1.0000, 0.0000, 0.6960, 0.1296],\n",
       "          [1.0000, 0.0000, 0.2142, 0.4420],\n",
       "          [1.0000, 0.0000, 0.0690, 0.2961],\n",
       "          [1.0000, 0.0000, 0.3097, 0.5767],\n",
       "          [1.0000, 0.0000, 0.6393, 0.3044],\n",
       "          [1.0000, 0.0000, 0.2462, 0.9229],\n",
       "          [1.0000, 0.0000, 0.3365, 0.3802],\n",
       "          [1.0000, 0.0000, 0.1686, 0.0222],\n",
       "          [1.0000, 0.0000, 0.0718, 0.1635],\n",
       "          [1.0000, 0.0000, 0.9604, 0.2950],\n",
       "          [1.0000, 0.0000, 0.9784, 0.7270],\n",
       "          [1.0000, 0.0000, 0.9197, 0.3497],\n",
       "          [1.0000, 0.0000, 0.8122, 0.5619],\n",
       "          [1.0000, 0.0000, 0.2953, 0.1116],\n",
       "          [1.0000, 0.0000, 0.3696, 0.3720],\n",
       "          [1.0000, 0.0000, 0.5064, 0.8426],\n",
       "          [1.0000, 0.0000, 0.9752, 0.1086],\n",
       "          [1.0000, 0.0000, 0.9184, 0.2276],\n",
       "          [1.0000, 0.0000, 0.1018, 0.3958],\n",
       "          [1.0000, 0.0000, 0.0258, 0.3397],\n",
       "          [1.0000, 0.0000, 0.2107, 0.9149],\n",
       "          [1.0000, 0.0000, 0.3853, 0.0386],\n",
       "          [1.0000, 0.0000, 0.9243, 0.2903],\n",
       "          [1.0000, 0.0000, 0.9409, 0.8334],\n",
       "          [1.0000, 0.0000, 0.8785, 0.0575],\n",
       "          [1.0000, 0.0000, 0.8908, 0.7481],\n",
       "          [1.0000, 0.0000, 0.5012, 0.6409],\n",
       "          [1.0000, 0.0000, 0.0825, 0.4793],\n",
       "          [1.0000, 0.0000, 0.0730, 0.5794],\n",
       "          [1.0000, 0.0000, 0.0875, 0.4114],\n",
       "          [1.0000, 0.0000, 0.7024, 0.5696],\n",
       "          [1.0000, 0.0000, 0.6174, 0.2737],\n",
       "          [1.0000, 0.0000, 0.4219, 0.7996],\n",
       "          [1.0000, 0.0000, 0.5267, 0.8520],\n",
       "          [1.0000, 0.0000, 0.4833, 0.1540],\n",
       "          [1.0000, 0.0000, 0.1542, 0.1176],\n",
       "          [1.0000, 0.0000, 0.9298, 0.1263],\n",
       "          [1.0000, 0.0000, 0.7707, 0.8332],\n",
       "          [1.0000, 0.0000, 0.6754, 0.2516],\n",
       "          [1.0000, 0.0000, 0.4113, 0.9888],\n",
       "          [1.0000, 0.0000, 0.7619, 0.1325],\n",
       "          [1.0000, 0.0000, 0.2099, 0.8083]],\n",
       " \n",
       "         [[0.0000, 1.0000, 0.9913, 0.1074],\n",
       "          [1.0000, 0.0000, 0.1944, 0.3567],\n",
       "          [1.0000, 0.0000, 0.6306, 0.5838],\n",
       "          [1.0000, 0.0000, 0.8117, 0.5159],\n",
       "          [1.0000, 0.0000, 0.4728, 0.8074],\n",
       "          [1.0000, 0.0000, 0.9178, 0.7037],\n",
       "          [1.0000, 0.0000, 0.7140, 0.5550],\n",
       "          [1.0000, 0.0000, 0.9494, 0.8128],\n",
       "          [1.0000, 0.0000, 0.6960, 0.1296],\n",
       "          [1.0000, 0.0000, 0.2142, 0.4420],\n",
       "          [1.0000, 0.0000, 0.0690, 0.2961],\n",
       "          [1.0000, 0.0000, 0.3097, 0.5767],\n",
       "          [1.0000, 0.0000, 0.6393, 0.3044],\n",
       "          [1.0000, 0.0000, 0.2462, 0.9229],\n",
       "          [1.0000, 0.0000, 0.3365, 0.3802],\n",
       "          [1.0000, 0.0000, 0.1686, 0.0222],\n",
       "          [1.0000, 0.0000, 0.0718, 0.1635],\n",
       "          [1.0000, 0.0000, 0.9604, 0.2950],\n",
       "          [1.0000, 0.0000, 0.9784, 0.7270],\n",
       "          [1.0000, 0.0000, 0.9197, 0.3497],\n",
       "          [1.0000, 0.0000, 0.8122, 0.5619],\n",
       "          [1.0000, 0.0000, 0.2953, 0.1116],\n",
       "          [1.0000, 0.0000, 0.3696, 0.3720],\n",
       "          [1.0000, 0.0000, 0.5064, 0.8426],\n",
       "          [1.0000, 0.0000, 0.9752, 0.1086],\n",
       "          [1.0000, 0.0000, 0.9184, 0.2276],\n",
       "          [1.0000, 0.0000, 0.1018, 0.3958],\n",
       "          [1.0000, 0.0000, 0.0258, 0.3397],\n",
       "          [1.0000, 0.0000, 0.2107, 0.9149],\n",
       "          [1.0000, 0.0000, 0.3853, 0.0386],\n",
       "          [1.0000, 0.0000, 0.9243, 0.2903],\n",
       "          [1.0000, 0.0000, 0.9409, 0.8334],\n",
       "          [1.0000, 0.0000, 0.8785, 0.0575],\n",
       "          [1.0000, 0.0000, 0.8908, 0.7481],\n",
       "          [1.0000, 0.0000, 0.5012, 0.6409],\n",
       "          [1.0000, 0.0000, 0.0825, 0.4793],\n",
       "          [1.0000, 0.0000, 0.0730, 0.5794],\n",
       "          [1.0000, 0.0000, 0.0875, 0.4114],\n",
       "          [1.0000, 0.0000, 0.7024, 0.5696],\n",
       "          [1.0000, 0.0000, 0.6174, 0.2737],\n",
       "          [1.0000, 0.0000, 0.4219, 0.7996],\n",
       "          [1.0000, 0.0000, 0.5267, 0.8520],\n",
       "          [1.0000, 0.0000, 0.4833, 0.1540],\n",
       "          [1.0000, 0.0000, 0.1542, 0.1176],\n",
       "          [1.0000, 0.0000, 0.9298, 0.1263],\n",
       "          [1.0000, 0.0000, 0.7707, 0.8332],\n",
       "          [1.0000, 0.0000, 0.6754, 0.2516],\n",
       "          [1.0000, 0.0000, 0.4113, 0.9888],\n",
       "          [1.0000, 0.0000, 0.7619, 0.1325],\n",
       "          [1.0000, 0.0000, 0.2099, 0.8083]],\n",
       " \n",
       "         [[0.0000, 1.0000, 0.9913, 0.1074],\n",
       "          [1.0000, 0.0000, 0.1944, 0.3567],\n",
       "          [1.0000, 0.0000, 0.6306, 0.5838],\n",
       "          [1.0000, 0.0000, 0.8117, 0.5159],\n",
       "          [1.0000, 0.0000, 0.4728, 0.8074],\n",
       "          [1.0000, 0.0000, 0.9178, 0.7037],\n",
       "          [1.0000, 0.0000, 0.7140, 0.5550],\n",
       "          [1.0000, 0.0000, 0.9494, 0.8128],\n",
       "          [1.0000, 0.0000, 0.6960, 0.1296],\n",
       "          [1.0000, 0.0000, 0.2142, 0.4420],\n",
       "          [1.0000, 0.0000, 0.0690, 0.2961],\n",
       "          [1.0000, 0.0000, 0.3097, 0.5767],\n",
       "          [1.0000, 0.0000, 0.6393, 0.3044],\n",
       "          [1.0000, 0.0000, 0.2462, 0.9229],\n",
       "          [1.0000, 0.0000, 0.3365, 0.3802],\n",
       "          [1.0000, 0.0000, 0.1686, 0.0222],\n",
       "          [1.0000, 0.0000, 0.0718, 0.1635],\n",
       "          [1.0000, 0.0000, 0.9604, 0.2950],\n",
       "          [1.0000, 0.0000, 0.9784, 0.7270],\n",
       "          [1.0000, 0.0000, 0.9197, 0.3497],\n",
       "          [1.0000, 0.0000, 0.8122, 0.5619],\n",
       "          [1.0000, 0.0000, 0.2953, 0.1116],\n",
       "          [1.0000, 0.0000, 0.3696, 0.3720],\n",
       "          [1.0000, 0.0000, 0.5064, 0.8426],\n",
       "          [1.0000, 0.0000, 0.9752, 0.1086],\n",
       "          [1.0000, 0.0000, 0.9184, 0.2276],\n",
       "          [1.0000, 0.0000, 0.1018, 0.3958],\n",
       "          [1.0000, 0.0000, 0.0258, 0.3397],\n",
       "          [1.0000, 0.0000, 0.2107, 0.9149],\n",
       "          [1.0000, 0.0000, 0.3853, 0.0386],\n",
       "          [1.0000, 0.0000, 0.9243, 0.2903],\n",
       "          [1.0000, 0.0000, 0.9409, 0.8334],\n",
       "          [1.0000, 0.0000, 0.8785, 0.0575],\n",
       "          [1.0000, 0.0000, 0.8908, 0.7481],\n",
       "          [1.0000, 0.0000, 0.5012, 0.6409],\n",
       "          [1.0000, 0.0000, 0.0825, 0.4793],\n",
       "          [1.0000, 0.0000, 0.0730, 0.5794],\n",
       "          [1.0000, 0.0000, 0.0875, 0.4114],\n",
       "          [1.0000, 0.0000, 0.7024, 0.5696],\n",
       "          [1.0000, 0.0000, 0.6174, 0.2737],\n",
       "          [1.0000, 0.0000, 0.4219, 0.7996],\n",
       "          [1.0000, 0.0000, 0.5267, 0.8520],\n",
       "          [1.0000, 0.0000, 0.4833, 0.1540],\n",
       "          [1.0000, 0.0000, 0.1542, 0.1176],\n",
       "          [1.0000, 0.0000, 0.9298, 0.1263],\n",
       "          [1.0000, 0.0000, 0.7707, 0.8332],\n",
       "          [1.0000, 0.0000, 0.6754, 0.2516],\n",
       "          [1.0000, 0.0000, 0.4113, 0.9888],\n",
       "          [1.0000, 0.0000, 0.7619, 0.1325],\n",
       "          [1.0000, 0.0000, 0.2099, 0.8083]],\n",
       " \n",
       "         [[0.0000, 1.0000, 0.9913, 0.1074],\n",
       "          [1.0000, 0.0000, 0.1944, 0.3567],\n",
       "          [1.0000, 0.0000, 0.6306, 0.5838],\n",
       "          [1.0000, 0.0000, 0.8117, 0.5159],\n",
       "          [1.0000, 0.0000, 0.4728, 0.8074],\n",
       "          [1.0000, 0.0000, 0.9178, 0.7037],\n",
       "          [1.0000, 0.0000, 0.7140, 0.5550],\n",
       "          [1.0000, 0.0000, 0.9494, 0.8128],\n",
       "          [1.0000, 0.0000, 0.6960, 0.1296],\n",
       "          [1.0000, 0.0000, 0.2142, 0.4420],\n",
       "          [1.0000, 0.0000, 0.0690, 0.2961],\n",
       "          [1.0000, 0.0000, 0.3097, 0.5767],\n",
       "          [1.0000, 0.0000, 0.6393, 0.3044],\n",
       "          [1.0000, 0.0000, 0.2462, 0.9229],\n",
       "          [1.0000, 0.0000, 0.3365, 0.3802],\n",
       "          [1.0000, 0.0000, 0.1686, 0.0222],\n",
       "          [1.0000, 0.0000, 0.0718, 0.1635],\n",
       "          [1.0000, 0.0000, 0.9604, 0.2950],\n",
       "          [1.0000, 0.0000, 0.9784, 0.7270],\n",
       "          [1.0000, 0.0000, 0.9197, 0.3497],\n",
       "          [1.0000, 0.0000, 0.8122, 0.5619],\n",
       "          [1.0000, 0.0000, 0.2953, 0.1116],\n",
       "          [1.0000, 0.0000, 0.3696, 0.3720],\n",
       "          [1.0000, 0.0000, 0.5064, 0.8426],\n",
       "          [1.0000, 0.0000, 0.9752, 0.1086],\n",
       "          [1.0000, 0.0000, 0.9184, 0.2276],\n",
       "          [1.0000, 0.0000, 0.1018, 0.3958],\n",
       "          [1.0000, 0.0000, 0.0258, 0.3397],\n",
       "          [1.0000, 0.0000, 0.2107, 0.9149],\n",
       "          [1.0000, 0.0000, 0.3853, 0.0386],\n",
       "          [1.0000, 0.0000, 0.9243, 0.2903],\n",
       "          [1.0000, 0.0000, 0.9409, 0.8334],\n",
       "          [1.0000, 0.0000, 0.8785, 0.0575],\n",
       "          [1.0000, 0.0000, 0.8908, 0.7481],\n",
       "          [1.0000, 0.0000, 0.5012, 0.6409],\n",
       "          [1.0000, 0.0000, 0.0825, 0.4793],\n",
       "          [1.0000, 0.0000, 0.0730, 0.5794],\n",
       "          [1.0000, 0.0000, 0.0875, 0.4114],\n",
       "          [1.0000, 0.0000, 0.7024, 0.5696],\n",
       "          [1.0000, 0.0000, 0.6174, 0.2737],\n",
       "          [1.0000, 0.0000, 0.4219, 0.7996],\n",
       "          [1.0000, 0.0000, 0.5267, 0.8520],\n",
       "          [1.0000, 0.0000, 0.4833, 0.1540],\n",
       "          [1.0000, 0.0000, 0.1542, 0.1176],\n",
       "          [1.0000, 0.0000, 0.9298, 0.1263],\n",
       "          [1.0000, 0.0000, 0.7707, 0.8332],\n",
       "          [1.0000, 0.0000, 0.6754, 0.2516],\n",
       "          [1.0000, 0.0000, 0.4113, 0.9888],\n",
       "          [1.0000, 0.0000, 0.7619, 0.1325],\n",
       "          [1.0000, 0.0000, 0.2099, 0.8083]],\n",
       " \n",
       "         [[0.0000, 1.0000, 0.9913, 0.1074],\n",
       "          [1.0000, 0.0000, 0.1944, 0.3567],\n",
       "          [1.0000, 0.0000, 0.6306, 0.5838],\n",
       "          [1.0000, 0.0000, 0.8117, 0.5159],\n",
       "          [1.0000, 0.0000, 0.4728, 0.8074],\n",
       "          [1.0000, 0.0000, 0.9178, 0.7037],\n",
       "          [1.0000, 0.0000, 0.7140, 0.5550],\n",
       "          [1.0000, 0.0000, 0.9494, 0.8128],\n",
       "          [1.0000, 0.0000, 0.6960, 0.1296],\n",
       "          [1.0000, 0.0000, 0.2142, 0.4420],\n",
       "          [1.0000, 0.0000, 0.0690, 0.2961],\n",
       "          [1.0000, 0.0000, 0.3097, 0.5767],\n",
       "          [1.0000, 0.0000, 0.6393, 0.3044],\n",
       "          [1.0000, 0.0000, 0.2462, 0.9229],\n",
       "          [1.0000, 0.0000, 0.3365, 0.3802],\n",
       "          [1.0000, 0.0000, 0.1686, 0.0222],\n",
       "          [1.0000, 0.0000, 0.0718, 0.1635],\n",
       "          [1.0000, 0.0000, 0.9604, 0.2950],\n",
       "          [1.0000, 0.0000, 0.9784, 0.7270],\n",
       "          [1.0000, 0.0000, 0.9197, 0.3497],\n",
       "          [1.0000, 0.0000, 0.8122, 0.5619],\n",
       "          [1.0000, 0.0000, 0.2953, 0.1116],\n",
       "          [1.0000, 0.0000, 0.3696, 0.3720],\n",
       "          [1.0000, 0.0000, 0.5064, 0.8426],\n",
       "          [1.0000, 0.0000, 0.9752, 0.1086],\n",
       "          [1.0000, 0.0000, 0.9184, 0.2276],\n",
       "          [1.0000, 0.0000, 0.1018, 0.3958],\n",
       "          [1.0000, 0.0000, 0.0258, 0.3397],\n",
       "          [1.0000, 0.0000, 0.2107, 0.9149],\n",
       "          [1.0000, 0.0000, 0.3853, 0.0386],\n",
       "          [1.0000, 0.0000, 0.9243, 0.2903],\n",
       "          [1.0000, 0.0000, 0.9409, 0.8334],\n",
       "          [1.0000, 0.0000, 0.8785, 0.0575],\n",
       "          [1.0000, 0.0000, 0.8908, 0.7481],\n",
       "          [1.0000, 0.0000, 0.5012, 0.6409],\n",
       "          [1.0000, 0.0000, 0.0825, 0.4793],\n",
       "          [1.0000, 0.0000, 0.0730, 0.5794],\n",
       "          [1.0000, 0.0000, 0.0875, 0.4114],\n",
       "          [1.0000, 0.0000, 0.7024, 0.5696],\n",
       "          [1.0000, 0.0000, 0.6174, 0.2737],\n",
       "          [1.0000, 0.0000, 0.4219, 0.7996],\n",
       "          [1.0000, 0.0000, 0.5267, 0.8520],\n",
       "          [1.0000, 0.0000, 0.4833, 0.1540],\n",
       "          [1.0000, 0.0000, 0.1542, 0.1176],\n",
       "          [1.0000, 0.0000, 0.9298, 0.1263],\n",
       "          [1.0000, 0.0000, 0.7707, 0.8332],\n",
       "          [1.0000, 0.0000, 0.6754, 0.2516],\n",
       "          [1.0000, 0.0000, 0.4113, 0.9888],\n",
       "          [1.0000, 0.0000, 0.7619, 0.1325],\n",
       "          [1.0000, 0.0000, 0.2099, 0.8083]]]),\n",
       " tensor([[True, True, True, True, True, True, True, True, True, True, True, True,\n",
       "          True, True, True, True, True, True, True, True, True, True, True, True,\n",
       "          True, True, True, True, True, True, True, True, True, True, True, True,\n",
       "          True, True, True, True, True, True, True, True, True, True, True, True,\n",
       "          True, True],\n",
       "         [True, True, True, True, True, True, True, True, True, True, True, True,\n",
       "          True, True, True, True, True, True, True, True, True, True, True, True,\n",
       "          True, True, True, True, True, True, True, True, True, True, True, True,\n",
       "          True, True, True, True, True, True, True, True, True, True, True, True,\n",
       "          True, True],\n",
       "         [True, True, True, True, True, True, True, True, True, True, True, True,\n",
       "          True, True, True, True, True, True, True, True, True, True, True, True,\n",
       "          True, True, True, True, True, True, True, True, True, True, True, True,\n",
       "          True, True, True, True, True, True, True, True, True, True, True, True,\n",
       "          True, True],\n",
       "         [True, True, True, True, True, True, True, True, True, True, True, True,\n",
       "          True, True, True, True, True, True, True, True, True, True, True, True,\n",
       "          True, True, True, True, True, True, True, True, True, True, True, True,\n",
       "          True, True, True, True, True, True, True, True, True, True, True, True,\n",
       "          True, True],\n",
       "         [True, True, True, True, True, True, True, True, True, True, True, True,\n",
       "          True, True, True, True, True, True, True, True, True, True, True, True,\n",
       "          True, True, True, True, True, True, True, True, True, True, True, True,\n",
       "          True, True, True, True, True, True, True, True, True, True, True, True,\n",
       "          True, True]]))"
      ]
     },
     "execution_count": 44,
     "metadata": {},
     "output_type": "execute_result"
    }
   ],
   "source": [
    "sum([edge_value[\"edge_attr\"] for edge_value in ng_mst.edges.values()])\n",
    "mst_g = from_networkx(ng_mst)\n",
    "mst_b = Batch()\n",
    "mst_b.batch = graph.batch\n",
    "mst_b.edge_index = mst_g.edge_index\n",
    "mst_b.x = graph.x\n",
    "to_dense_batch(mst_b.x, mst_b.batch)"
   ]
  },
  {
   "cell_type": "markdown",
   "metadata": {},
   "source": [
    "## Validateto_data_listto_data_list"
   ]
  },
  {
   "cell_type": "code",
   "execution_count": 15,
   "metadata": {},
   "outputs": [],
   "source": [
    "import torch\n",
    "from args import get_args\n",
    "from environments.tsp import TSPEnv\n",
    "from models.tsp_agent import TSPAgent\n",
    "from train import rollout, validate"
   ]
  },
  {
   "cell_type": "code",
   "execution_count": 16,
   "metadata": {},
   "outputs": [],
   "source": [
    "args = get_args([])\n",
    "args.device = torch.device(\"cuda\")\n",
    "model = TSPAgent(args).to(args.device)\n",
    "model_path = \"/home/pxh/TSP-experiment/outputs/tsp_50/run_20201217T165809/epoch-21.pt\"\n",
    "dataste_path = \"/home/pxh/TSP-experiment/datasets/test/test-50-with-optimal.pk\"\n",
    "\n",
    "val_dataset = torch.load(dataste_path)\n",
    "load_data = torch.load(model_path)\n",
    "model.load_state_dict(load_data[\"model\"])\n",
    "env = TSPEnv()\n"
   ]
  },
  {
   "cell_type": "code",
   "execution_count": 17,
   "metadata": {},
   "outputs": [],
   "source": [
    "out = rollout(model, val_dataset, env, args)"
   ]
  },
  {
   "cell_type": "code",
   "execution_count": 18,
   "metadata": {},
   "outputs": [
    {
     "data": {
      "text/plain": [
       "tensor(1159.0975)"
      ]
     },
     "execution_count": 18,
     "metadata": {},
     "output_type": "execute_result"
    }
   ],
   "source": [
    "-out.sum()"
   ]
  },
  {
   "cell_type": "code",
   "execution_count": 19,
   "metadata": {},
   "outputs": [
    {
     "data": {
      "text/plain": [
       "tensor(569.4701)"
      ]
     },
     "execution_count": 19,
     "metadata": {},
     "output_type": "execute_result"
    }
   ],
   "source": [
    "torch.sum(torch.tensor([d.len for d in val_dataset]))"
   ]
  },
  {
   "cell_type": "code",
   "execution_count": 20,
   "metadata": {},
   "outputs": [
    {
     "data": {
      "text/plain": [
       "2.9364953489217434"
      ]
     },
     "execution_count": 20,
     "metadata": {},
     "output_type": "execute_result"
    }
   ],
   "source": [
    "1672.2463/569.4701"
   ]
  },
  {
   "cell_type": "code",
   "execution_count": 20,
   "metadata": {},
   "outputs": [],
   "source": [
    "from torch_geometric.data import Batch\n",
    "b = Batch.from_data_list([val_dataset[10]]).to(args.device)\n"
   ]
  },
  {
   "cell_type": "code",
   "execution_count": 21,
   "metadata": {},
   "outputs": [
    {
     "data": {
      "text/plain": [
       "tensor([22.9677], device='cuda:0')"
      ]
     },
     "execution_count": 21,
     "metadata": {},
     "output_type": "execute_result"
    }
   ],
   "source": [
    "state = env.reset(b.pos.unsqueeze(0))\n",
    "logp_s = []\n",
    "done = False\n",
    "while not done:\n",
    "    model.eval()\n",
    "    model.set_decode_type(\"sampling\")\n",
    "    model.encode(b)\n",
    "    action, log_p = model(state)\n",
    "    logp_s.append(log_p)\n",
    "    state, r, done, _ = env.step(action)\n",
    "    \n",
    "-r"
   ]
  },
  {
   "cell_type": "code",
   "execution_count": null,
   "metadata": {},
   "outputs": [],
   "source": [
    "for i in range(49):\n",
    "#     plt.plot(torch.arange(logp_s[i].size(1)), logp_s[i].exp().detach().cpu().squeeze())\n",
    "#     plt.show()\n",
    "#     print(i)\n",
    "#     print(logp_s[i].exp().detach().cpu().squeeze().sum())"
   ]
  },
  {
   "cell_type": "code",
   "execution_count": 29,
   "metadata": {},
   "outputs": [],
   "source": [
    "import matplotlib.pyplot as plt\n",
    "\n",
    "mst_set = torch.load('/home/pxh/TSP-experiment/datasets/test/mst-10-100-optimal.pk')\n",
    "\n",
    "x = []\n",
    "y = []\n",
    "tsp = []"
   ]
  },
  {
   "cell_type": "code",
   "execution_count": null,
   "metadata": {},
   "outputs": [],
   "source": []
  },
  {
   "cell_type": "code",
   "execution_count": 26,
   "metadata": {},
   "outputs": [],
   "source": [
    "for data in mst_set:\n",
    "    x.append(data.num_nodes)\n",
    "    y.append((data.concorde_len / data.mst_len).item())\n",
    "    tsp.append(data.concorde_len.item())"
   ]
  },
  {
   "cell_type": "code",
   "execution_count": 23,
   "metadata": {},
   "outputs": [
    {
     "data": {
      "text/plain": [
       "[<matplotlib.lines.Line2D at 0x7f0410110910>]"
      ]
     },
     "execution_count": 23,
     "metadata": {},
     "output_type": "execute_result"
    },
    {
     "data": {
      "image/png": "[encoded data removed]",
      "text/plain": [
       "<Figure size 432x288 with 1 Axes>"
      ]
     },
     "metadata": {
      "needs_background": "light"
     },
     "output_type": "display_data"
    }
   ],
   "source": [
    "plt.plot(x,y)"
   ]
  },
  {
   "cell_type": "code",
   "execution_count": 27,
   "metadata": {},
   "outputs": [
    {
     "data": {
      "text/plain": [
       "[<matplotlib.lines.Line2D at 0x7f041e561e20>]"
      ]
     },
     "execution_count": 27,
     "metadata": {},
     "output_type": "execute_result"
    },
    {
     "data": {
      "image/png": "[encoded data removed]",
      "text/plain": [
       "<Figure size 432x288 with 1 Axes>"
      ]
     },
     "metadata": {
      "needs_background": "light"
     },
     "output_type": "display_data"
    }
   ],
   "source": [
    "plt.plot(x, tsp)"
   ]
  },
  {
   "cell_type": "code",
   "execution_count": null,
   "metadata": {},
   "outputs": [],
   "source": []
  }
 ],
 "metadata": {
  "kernelspec": {
   "display_name": "Python 3",
   "language": "python",
   "name": "python3"
  },
  "language_info": {
   "codemirror_mode": {
    "name": "ipython",
    "version": 3
   },
   "file_extension": ".py",
   "mimetype": "text/x-python",
   "name": "python",
   "nbconvert_exporter": "python",
   "pygments_lexer": "ipython3",
   "version": "3.8.5"
  },
  "widgets": {
   "application/vnd.jupyter.widget-state+json": {
    "state": {},
    "version_major": 2,
    "version_minor": 0
   }
  }
 },
 "nbformat": 4,
 "nbformat_minor": 4
}
