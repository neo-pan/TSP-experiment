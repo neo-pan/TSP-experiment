{
 "metadata": {
  "language_info": {
   "codemirror_mode": {
    "name": "ipython",
    "version": 3
   },
   "file_extension": ".py",
   "mimetype": "text/x-python",
   "name": "python",
   "nbconvert_exporter": "python",
   "pygments_lexer": "ipython3",
   "version": "3.8.8"
  },
  "orig_nbformat": 4,
  "kernelspec": {
   "name": "python3",
   "display_name": "Python 3.8.8 64-bit ('nvcc': conda)"
  },
  "interpreter": {
   "hash": "f120e1ee7e601e54dad6d026bb5c0b74c152a92403c409ff422a0cac7a36b6ed"
  }
 },
 "nbformat": 4,
 "nbformat_minor": 2,
 "cells": [
  {
   "cell_type": "code",
   "execution_count": 1,
   "metadata": {},
   "outputs": [],
   "source": [
    "import os\n",
    "import numpy as np\n",
    "import sty\n",
    "import torch\n",
    "import pprint as pp\n",
    "from torch_geometric.data import DataLoader\n",
    "from torch_geometric.utils import to_dense_batch\n",
    "from tqdm import tqdm\n",
    "from args_2opt import get_args\n",
    "from datasets.tsp import TSPDataset\n",
    "from environments.tsp_2opt import TSP2OPTEnv\n",
    "from models.tsp_2opt_agent import TSP2OPTAgent"
   ]
  },
  {
   "cell_type": "code",
   "execution_count": 2,
   "metadata": {},
   "outputs": [
    {
     "output_type": "stream",
     "name": "stdout",
     "text": [
      "{'batch_size': 256,\n 'bias': True,\n 'checkpoint_epochs': 1,\n 'decode_type': 'sampling',\n 'decoder_num_heads': 8,\n 'device': device(type='cuda'),\n 'edge_dim': 1,\n 'embed_dim': 128,\n 'encoder_num_heads': 8,\n 'entropy_beta': 0.005,\n 'epoch_size': 5120,\n 'epoch_start': 0,\n 'eval_batch_size': 1024,\n 'eval_only': False,\n 'exp_beta': 0.8,\n 'gamma': 0.99,\n 'graph_knn': 10,\n 'graph_size': 100,\n 'graph_type': 'knn',\n 'horizon': 10,\n 'load_path': 'outputs/tsp_100/continued_20210714T142718/best-model.pt',\n 'log_dir': 'logs',\n 'log_step': 10,\n 'lr_critic': 0.0001,\n 'lr_decay': 1.0,\n 'lr_model': 0.0001,\n 'max_grad_norm': 0.3,\n 'max_num_steps': 200,\n 'n_epochs': 200,\n 'no_cuda': False,\n 'no_norm_return': False,\n 'no_progress_bar': False,\n 'node_dim': 2,\n 'normalization': 'batch',\n 'num_gnn_layers': 5,\n 'num_workers': 8,\n 'output_dir': 'outputs',\n 'pooling_method': 'mean',\n 'problem': 'tsp',\n 'run_name': 'run_20210715T173934',\n 'save_dir': 'outputs/tsp_50/run_20210715T173934',\n 'seed': 1234,\n 'tanh_clipping': 10.0,\n 'tour_gnn_layers': 10,\n 'tour_pooling_method': 'add',\n 'train_dataset': None,\n 'use_cuda': True,\n 'val_dataset': 'datasets/tsp_100_validation_256.pt',\n 'val_size': 256,\n 'value_beta': 0.5,\n 'warmup_batch_size': 128,\n 'warmup_epochs': 1}\n"
     ]
    }
   ],
   "source": [
    "args = get_args('')\n",
    "\n",
    "args.load_path = \"outputs/tsp_100/continued_20210714T142718/best-model.pt\"\n",
    "args.val_dataset = \"datasets/tsp_100_validation_256.pt\"\n",
    "args.graph_size = 100\n",
    "args.tour_gnn_layers = 10\n",
    "args.num_gnn_layers = 5\n",
    "args.batch_size = 256\n",
    "args.device = torch.device(\"cuda\" if args.use_cuda else \"cpu\")\n",
    "\n",
    "# Pretty print the run args\n",
    "pp.pprint(vars(args))\n",
    "\n",
    "# Set the random seed\n",
    "torch.manual_seed(args.seed)\n",
    "torch.backends.cudnn.benchmark = True\n",
    "torch.backends.cudnn.deterministic = True"
   ]
  },
  {
   "cell_type": "code",
   "execution_count": 3,
   "metadata": {},
   "outputs": [
    {
     "output_type": "execute_result",
     "data": {
      "text/plain": [
       "<All keys matched successfully>"
      ]
     },
     "metadata": {},
     "execution_count": 3
    }
   ],
   "source": [
    "load_data = torch.load(args.load_path)\n",
    "env = TSP2OPTEnv()\n",
    "model = TSP2OPTAgent(args).to(args.device)\n",
    "\n",
    "model.load_state_dict(load_data[\"model\"])"
   ]
  },
  {
   "cell_type": "code",
   "execution_count": 4,
   "metadata": {},
   "outputs": [],
   "source": [
    "val_dataset = TSPDataset(\n",
    "    size=args.val_size, graph_size=args.graph_size, graph_type=args.graph_type,\n",
    "    load_path=args.val_dataset, graph_knn=args.graph_knn\n",
    ")"
   ]
  },
  {
   "cell_type": "code",
   "execution_count": 17,
   "metadata": {},
   "outputs": [
    {
     "output_type": "stream",
     "name": "stdout",
     "text": [
      "step:2000, average length:8.175, gap:5.074%\n",
      "step:4000, average length:8.128, gap:4.472%\n",
      "step:6000, average length:8.099, gap:4.107%\n",
      "step:8000, average length:8.077, gap:3.825%\n",
      "step:10000, average length:8.064, gap:3.657%\n",
      "step:12000, average length:8.054, gap:3.520%\n",
      "step:14000, average length:8.046, gap:3.424%\n",
      "step:16000, average length:8.037, gap:3.304%\n",
      "step:18000, average length:8.032, gap:3.239%\n"
     ]
    }
   ],
   "source": [
    "model.eval()\n",
    "model.set_decode_type(\"sampling\")\n",
    "for bat in DataLoader(val_dataset, batch_size=args.eval_batch_size):\n",
    "    step = 0\n",
    "    bat = bat.to(args.device)\n",
    "    node_pos = to_dense_batch(bat.pos, bat.batch)[0]\n",
    "    done = False\n",
    "    with torch.no_grad():\n",
    "        state = env.reset(T=2000, node_pos=node_pos)\n",
    "        embed_data = model.init_embed(bat)\n",
    "        node_embeddings, _ = model.encoder(embed_data)\n",
    "        while not done:\n",
    "            step += 1\n",
    "            action, _, _ = model(state, node_embeddings, embed_data.batch)\n",
    "            state, _, done, _ = env.step(action.squeeze())\n",
    "            if(step%200==0):\n",
    "                avg_len = state.best_tour_len.mean().item()\n",
    "                opt = sum([g.opt for g in val_dataset]) / len(val_dataset)\n",
    "                opt_gap = (avg_len - opt) / opt\n",
    "                print(f\"step:{step}, average length:{avg_len:.3f}, gap:{opt_gap*100:.3f}%\")\n",
    "                # print(action[0])\n"
   ]
  },
  {
   "source": [
    "step:100, average length:10.828, gap:39.182%\n",
    "step:200, average length:8.669, gap:11.428%\n",
    "step:300, average length:8.480, gap:8.996%\n",
    "step:400, average length:8.391, gap:7.861%\n",
    "step:500, average length:8.346, gap:7.284%\n",
    "step:600, average length:8.316, gap:6.889%\n",
    "step:700, average length:8.290, gap:6.551%\n",
    "step:800, average length:8.268, gap:6.269%\n",
    "step:900, average length:8.252, gap:6.069%\n",
    "step:1000, average length:8.238, gap:5.890%\n",
    "step:1100, average length:8.228, gap:5.766%\n",
    "step:1200, average length:8.220, gap:5.651%\n",
    "step:1300, average length:8.210, gap:5.534%\n",
    "step:1400, average length:8.200, gap:5.398%\n",
    "step:1500, average length:8.194, gap:5.318%\n",
    "step:1600, average length:8.184, gap:5.192%\n",
    "step:1700, average length:8.174, gap:5.069%\n",
    "step:1800, average length:8.168, gap:4.992%\n",
    "step:1900, average length:8.165, gap:4.948%"
   ],
   "cell_type": "markdown",
   "metadata": {}
  },
  {
   "cell_type": "code",
   "execution_count": null,
   "metadata": {},
   "outputs": [],
   "source": [
    "state.curr_edge_list[0]"
   ]
  },
  {
   "cell_type": "code",
   "execution_count": null,
   "metadata": {},
   "outputs": [],
   "source": [
    "import torch.nn as nn\n",
    "class TestResetParam(nn.Module):\n",
    "    def __init__(self):\n",
    "        super().__init__()\n",
    "        self.reset_parameters()\n",
    "\n",
    "    def reset_parameters(self):\n",
    "        print(\"Reset Parameters\")\n",
    "\n",
    "class FOO(nn.Module):\n",
    "    def __init__(self):\n",
    "        super().__init__()\n",
    "        self.test = TestResetParam()\n",
    "\n",
    "foo = FOO()"
   ]
  },
  {
   "cell_type": "code",
   "execution_count": null,
   "metadata": {},
   "outputs": [],
   "source": []
  }
 ]
}