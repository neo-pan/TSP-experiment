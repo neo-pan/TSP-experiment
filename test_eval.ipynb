{
 "metadata": {
  "language_info": {
   "codemirror_mode": {
    "name": "ipython",
    "version": 3
   },
   "file_extension": ".py",
   "mimetype": "text/x-python",
   "name": "python",
   "nbconvert_exporter": "python",
   "pygments_lexer": "ipython3",
   "version": "3.8.8"
  },
  "orig_nbformat": 4,
  "kernelspec": {
   "name": "python3",
   "display_name": "Python 3.8.8 64-bit ('nvcc': conda)"
  },
  "interpreter": {
   "hash": "f120e1ee7e601e54dad6d026bb5c0b74c152a92403c409ff422a0cac7a36b6ed"
  }
 },
 "nbformat": 4,
 "nbformat_minor": 2,
 "cells": [
  {
   "cell_type": "code",
   "execution_count": null,
   "source": [
    "import os\n",
    "import numpy as np\n",
    "import sty\n",
    "import torch\n",
    "import pprint as pp\n",
    "from torch_geometric.data import DataLoader\n",
    "from torch_geometric.utils import to_dense_batch\n",
    "from tqdm import tqdm\n",
    "from args_2opt import get_args\n",
    "from datasets.tsp import TSPDataset\n",
    "from environments.tsp_2opt import TSP2OPTEnv\n",
    "from models.tsp_2opt_agent import TSP2OPTAgent\n",
    "from torch_discounted_cumsum import discounted_cumsum_right"
   ],
   "outputs": [],
   "metadata": {}
  },
  {
   "cell_type": "code",
   "execution_count": null,
   "source": [
    "args = get_args('')\n",
    "\n",
    "args.load_path = \"outputs/tsp_50/transformer_decoder_only_20210719T204806/best-model.pt\"\n",
    "args.val_dataset = \"datasets/tsp_50_validation_256.pt\"\n",
    "args.graph_size = 50\n",
    "args.tour_gnn_layers = 10\n",
    "args.num_gnn_layers = 3\n",
    "args.batch_size = 256\n",
    "args.use_cuda = False\n",
    "args.device = torch.device(\"cuda\" if args.use_cuda else \"cpu\")\n",
    "\n",
    "# Pretty print the run args\n",
    "pp.pprint(vars(args))\n",
    "\n",
    "# Set the random seed\n",
    "torch.manual_seed(args.seed)\n",
    "torch.backends.cudnn.benchmark = True\n",
    "torch.backends.cudnn.deterministic = True"
   ],
   "outputs": [],
   "metadata": {}
  },
  {
   "cell_type": "code",
   "execution_count": null,
   "source": [
    "load_data = torch.load(args.load_path, map_location=torch.device(\"cpu\"))\n",
    "env = TSP2OPTEnv()\n",
    "model = TSP2OPTAgent(args).to(args.device)\n",
    "\n",
    "model.load_state_dict(load_data[\"model\"])"
   ],
   "outputs": [],
   "metadata": {}
  },
  {
   "cell_type": "code",
   "execution_count": null,
   "source": [
    "val_dataset = TSPDataset(\n",
    "    size=args.val_size, graph_size=args.graph_size, graph_type=args.graph_type,\n",
    "    load_path=args.val_dataset, graph_knn=args.graph_knn\n",
    ")"
   ],
   "outputs": [],
   "metadata": {}
  },
  {
   "cell_type": "code",
   "execution_count": null,
   "source": [
    "model.eval()\n",
    "model.set_decode_type(\"sampling\")\n",
    "values = []\n",
    "rewards = []\n",
    "logps = []\n",
    "actions = []\n",
    "for bat in DataLoader(val_dataset, batch_size=args.eval_batch_size):\n",
    "    step = 0\n",
    "    bat = bat.to(args.device)\n",
    "    node_pos = to_dense_batch(bat.pos, bat.batch)[0]\n",
    "    done = False\n",
    "    with torch.no_grad():\n",
    "        state = env.reset(T=10, node_pos=node_pos)\n",
    "        embed_data = model.init_embed(bat)\n",
    "        node_embeddings, _ = model.encoder(embed_data)\n",
    "        while not done:\n",
    "            step += 1\n",
    "            action, log_p, value = model(state, node_embeddings, embed_data.batch)\n",
    "            state, reward, done, _ = env.step(action.squeeze())\n",
    "            actions.append(action)\n",
    "            values.append(value)\n",
    "            logps.append(log_p)\n",
    "            rewards.append(reward)\n",
    "            if(step%1==0):\n",
    "                avg_len = state.best_tour_len.mean().item()\n",
    "                opt = sum([g.opt for g in val_dataset]) / len(val_dataset)\n",
    "                opt_gap = (avg_len - opt) / opt\n",
    "                print(f\"step:{step}, average length:{avg_len:.3f}, gap:{opt_gap*100:.3f}%\")\n",
    "                # print(action[0])\n"
   ],
   "outputs": [],
   "metadata": {}
  },
  {
   "cell_type": "markdown",
   "source": [],
   "metadata": {}
  },
  {
   "cell_type": "code",
   "execution_count": null,
   "source": [
    "rewards_t = torch.stack(rewards, dim=0)\n",
    "returns_t = discounted_cumsum_right(rewards_t.squeeze(2).T, 0.99).T.unsqueeze(2)\n",
    "values_t = torch.stack(values, dim=0)\n",
    "logp_t = torch.stack(logps, dim=0)\n",
    "r_mean = returns_t.mean()\n",
    "r_std = returns_t.std()\n",
    "eps = torch.finfo(torch.float).eps  # small number to avoid div/0\n",
    "returns_t = (returns_t - r_mean) / (r_std + eps)"
   ],
   "outputs": [],
   "metadata": {}
  },
  {
   "cell_type": "code",
   "execution_count": null,
   "source": [
    "logp_t.exp().max(dim=-1)"
   ],
   "outputs": [],
   "metadata": {}
  },
  {
   "cell_type": "code",
   "execution_count": null,
   "source": [
    "import torch\n",
    "from torch_geometric.nn.conv import MessagePassing\n",
    "from typing import Optional\n",
    "\n",
    "class Edge(MessagePassing):\n",
    "    def __init__(self):\n",
    "        super().__init__()\n",
    "        self._edge = None\n",
    "\n",
    "    def forward(self, x, edge_index):\n",
    "        self.propagate(edge_index, x=x)\n",
    "        edge = self._edge\n",
    "        self._edge = None\n",
    "        return edge\n",
    "\n",
    "    def message(self, x_j, x_i):\n",
    "        edge_embedding = torch.cat([x_i, x_j], dim=-1)\n",
    "        self._edge = edge_embedding\n",
    "        return x_i\n"
   ],
   "outputs": [],
   "metadata": {}
  },
  {
   "cell_type": "code",
   "execution_count": null,
   "source": [
    "bsz = 5\n",
    "gsz = 10\n",
    "x = torch.arange(gsz).unsqueeze(-1).repeat((bsz,1,1))\n",
    "tour = torch.rand((bsz, gsz)).argsort(dim=1)\n",
    "tour[0]"
   ],
   "outputs": [],
   "metadata": {}
  },
  {
   "cell_type": "code",
   "execution_count": null,
   "source": [
    "x.gather(dim=1, index=tour.unsqueeze(-1).expand_as(x))[0]"
   ],
   "outputs": [],
   "metadata": {}
  },
  {
   "cell_type": "code",
   "execution_count": null,
   "source": [
    "edge = Edge()\n",
    "node_x = x.flatten(0, 1)\n",
    "edge_index_offset = torch.arange(bsz) * gsz\n",
    "dense_edge_index = torch.stack(\n",
    "    [tour, tour.roll(-1, [1])], dim=2\n",
    ")\n",
    "edge_index = (\n",
    "    (dense_edge_index + edge_index_offset[:, None, None]).flatten(0, 1).T\n",
    ")\n",
    "edge(node_x, edge_index)"
   ],
   "outputs": [],
   "metadata": {}
  },
  {
   "cell_type": "code",
   "execution_count": null,
   "source": [],
   "outputs": [],
   "metadata": {}
  }
 ]
}